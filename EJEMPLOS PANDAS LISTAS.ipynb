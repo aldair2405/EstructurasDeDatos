{
 "cells": [
  {
   "cell_type": "code",
   "execution_count": null,
   "metadata": {},
   "outputs": [],
   "source": [
    "import pandas as pd\n",
    "import numpy as np\n"
   ]
  },
  {
   "cell_type": "code",
   "execution_count": null,
   "metadata": {},
   "outputs": [],
   "source": []
  },
  {
   "cell_type": "code",
   "execution_count": null,
   "metadata": {},
   "outputs": [],
   "source": [
    "diccionario_python={\n",
    "    \"Analisis\":10,\n",
    "    \"Calificaciones\":20,\n",
    "    \"Matematicas\":30,\n",
    "    \"Derecho\":40,\n",
    "    \"Español\":50,\n",
    "}\n",
    "edades_diccionario=pd.Series(diccionario_python)\n",
    "\n"
   ]
  },
  {
   "cell_type": "code",
   "execution_count": null,
   "metadata": {},
   "outputs": [],
   "source": [
    "edades_diccionario"
   ]
  },
  {
   "cell_type": "code",
   "execution_count": null,
   "metadata": {},
   "outputs": [],
   "source": [
    "edades_diccionario.values"
   ]
  },
  {
   "cell_type": "code",
   "execution_count": null,
   "metadata": {},
   "outputs": [],
   "source": [
    "edades_diccionario.index"
   ]
  },
  {
   "cell_type": "code",
   "execution_count": null,
   "metadata": {},
   "outputs": [],
   "source": [
    "nuevos_indices= [\"A\",\"B\",\"C\",\"D\",\"E\"]\n",
    "arreglo_numpy= np.array ([10,20,30,40,50])\n",
    "edades_diccionario= pd.Series (arreglo_numpy.index = nuevos_indices)\n",
    "edades_diccionario=\n"
   ]
  },
  {
   "cell_type": "code",
   "execution_count": null,
   "metadata": {},
   "outputs": [],
   "source": [
    "edades_diccionario.dtypes"
   ]
  },
  {
   "cell_type": "code",
   "execution_count": null,
   "metadata": {},
   "outputs": [],
   "source": [
    "edades_diccionario.info() \n",
    "\n",
    "\n"
   ]
  },
  {
   "cell_type": "code",
   "execution_count": null,
   "metadata": {},
   "outputs": [],
   "source": [
    "lista_python= [\n",
    "    (10,20,30,40),\n",
    "    [50,60,70,80],\n",
    "    [90,100,110,120]\n",
    "]\n",
    "df= pd.DataFrame(lista_python)\n",
    "df\n"
   ]
  },
  {
   "cell_type": "code",
   "execution_count": null,
   "metadata": {},
   "outputs": [],
   "source": [
    "lista_python= [\n",
    "    (10,20,30,40),\n",
    "    [50,60,70,80],\n",
    "    [90,100,110,120]\n",
    "]\n",
    "filas=[\"a\",\"b\",\"c\"]\n",
    "columnas= [\"I\",\"II\",\"III\",\"IV\"]\n",
    "df=pd.DataFrame(lista_python,\n",
    "                index=filas,columns=columnas)\n",
    "\n"
   ]
  },
  {
   "cell_type": "code",
   "execution_count": null,
   "metadata": {},
   "outputs": [],
   "source": [
    "diccionario_listas={\n",
    "    \"Nombre\": [\"Ciro\",\"Imelda\",\"Jose\"],\n",
    "    \"Edad\": [22,45,32],\n",
    "    \"Area\": [\"TI\",\"RH\",\"Produccion\"]\n",
    "}\n",
    "df=pd.DataFrame(diccionario_listas)\n",
    "\n",
    "df"
   ]
  },
  {
   "cell_type": "code",
   "execution_count": null,
   "metadata": {},
   "outputs": [],
   "source": [
    "arreglo =np.array([\n",
    "    [10,20,30,40],\n",
    "    [50,60,70,80],\n",
    "    [90,100,110,120]\n",
    "])\n",
    "\n",
    "filas=[\"a\",\"b\",\"c\"]\n",
    "columnas= [\"I\",\"II\",\"III\",\"IV\"]\n",
    "\n",
    "df=pd.DataFrame(arreglo, \n",
    "                index=filas, columns=columnas)\n",
    "\n",
    "df\n",
    "        "
   ]
  }
 ],
 "metadata": {
  "kernelspec": {
   "display_name": "Python 3",
   "language": "python",
   "name": "python3"
  },
  "language_info": {
   "name": "python",
   "version": "3.11.9"
  }
 },
 "nbformat": 4,
 "nbformat_minor": 2
}
